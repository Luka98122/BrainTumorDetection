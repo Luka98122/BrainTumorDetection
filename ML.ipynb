{
  "cells": [
    {
      "cell_type": "code",
      "execution_count": null,
      "metadata": {
        "id": "clChcspjstwW"
      },
      "outputs": [],
      "source": [
        "import torch\n",
        "import torch.nn as nn\n",
        "import torch.optim as optim\n",
        "from torch.utils.data import DataLoader, Dataset\n",
        "import segmentation_models_pytorch as smp\n",
        "from torchvision import transforms\n",
        "from PIL import Image\n",
        "import cv2\n",
        "import os\n",
        "from sklearn.model_selection import train_test_split\n",
        "import matplotlib.pyplot as plt\n",
        "import numpy as np"
      ]
    },
    {
      "cell_type": "code",
      "execution_count": 2,
      "metadata": {},
      "outputs": [
        {
          "name": "stdout",
          "output_type": "stream",
          "text": [
            "Dataset appears to be present.\n"
          ]
        }
      ],
      "source": [
        "weights_dir = './weights/'\n",
        "os.makedirs(weights_dir+\"automatic\", exist_ok=True)\n",
        "\n",
        "dataset_path = './data/dataset'\n",
        "images_path = os.path.join(dataset_path, 'images')\n",
        "masks_path = os.path.join(dataset_path, 'masks')\n",
        "\n",
        "if not os.path.isdir(images_path) or not os.path.isdir(masks_path):\n",
        "    print(\"Please download the dataset linked in the README and extract it to './data/dataset'\")\n",
        "    print(\"You should have directories './data/dataset/images' and './data/dataset/masks'\")\n",
        "\n",
        "print(\"Dataset appears to be present.\")"
      ]
    },
    {
      "cell_type": "code",
      "execution_count": 3,
      "metadata": {
        "colab": {
          "base_uri": "https://localhost:8080/"
        },
        "collapsed": true,
        "id": "aTiU9H2UMWVl",
        "outputId": "0476b471-1c4d-4026-9432-32dec4df7ecc"
      },
      "outputs": [
        {
          "name": "stdout",
          "output_type": "stream",
          "text": [
            "Deleted 0 image(s) of size 256x256.\n"
          ]
        }
      ],
      "source": [
        "root_dir = \"./data/dataset\"\n",
        "deleted = 0\n",
        "for dirpath, dirnames, filenames in os.walk(root_dir):\n",
        "    for file in filenames:\n",
        "        if file.lower().endswith(('.png', '.jpg', '.jpeg', '.bmp', '.tif', '.tiff')):\n",
        "            full_path = os.path.join(dirpath, file)\n",
        "            img = cv2.imread(full_path)\n",
        "            if img is not None and img.shape[0] == 256 and img.shape[1] == 256:\n",
        "                os.remove(full_path)\n",
        "                deleted += 1\n",
        "\n",
        "print(f\"Deleted {deleted} image(s) of size 256x256.\")\n"
      ]
    },
    {
      "cell_type": "code",
      "execution_count": 4,
      "metadata": {
        "colab": {
          "base_uri": "https://localhost:8080/"
        },
        "collapsed": true,
        "id": "bBYKslqRzFe1",
        "outputId": "39ca8d0a-dbe0-4d29-8407-ac1ca9610043"
      },
      "outputs": [],
      "source": [
        "class DataLoaderSeg(Dataset):\n",
        "    def __init__(self, image_dir):\n",
        "        self.image_dir = image_dir\n",
        "        self.mask_dir = image_dir.replace(\"images\", \"masks\")\n",
        "\n",
        "        self.imgs = sorted(os.listdir(image_dir))\n",
        "        self.image_paths = []\n",
        "        self.mask_paths = []\n",
        "\n",
        "        for i in range(len(self.imgs)):\n",
        "          self.image_paths.append(self.image_dir+\"/\"+self.imgs[i])\n",
        "          self.mask_paths.append(self.mask_dir+\"/\"+self.imgs[i])\n",
        "\n",
        "\n",
        "    def __getitem__(self, ind):\n",
        "        img = cv2.imread(self.image_paths[ind], cv2.IMREAD_GRAYSCALE)\n",
        "        mask = cv2.imread(self.mask_paths[ind], cv2.IMREAD_GRAYSCALE)\n",
        "\n",
        "        img_tensor = torch.from_numpy(img).float().unsqueeze(0) / 255.0\n",
        "        mask_tensor = torch.from_numpy(mask).float().unsqueeze(0) / 255.0\n",
        "        return img_tensor, mask_tensor\n",
        "\n",
        "    def __len__(self):\n",
        "        return len(self.image_paths)\n",
        "\n",
        "    def train_test_split(self):\n",
        "        test_size=0.2\n",
        "        random_state=42\n",
        "        shuffle=True\n",
        "        x_train, x_test, y_train, y_test = train_test_split(\n",
        "            self.image_paths, self.mask_paths,\n",
        "            test_size=test_size, random_state=random_state, shuffle=shuffle\n",
        "        )\n",
        "        return x_train, x_test, y_train, y_test\n",
        "\n",
        "dataset = DataLoaderSeg(\"./data/dataset/images\")\n",
        "dataloader = DataLoader(dataset, batch_size=8, shuffle=True)\n",
        "x_train,x_test,y_train,y_test = dataset.train_test_split()\n"
      ]
    },
    {
      "cell_type": "code",
      "execution_count": 5,
      "metadata": {
        "colab": {
          "base_uri": "https://localhost:8080/",
          "height": 566
        },
        "id": "ELvYE89htsyQ",
        "outputId": "6a8c70cb-cfed-4a6a-d4c1-cc5489637dde"
      },
      "outputs": [
        {
          "name": "stdout",
          "output_type": "stream",
          "text": [
            "Using device: cuda\n"
          ]
        }
      ],
      "source": [
        "model = smp.Unet(encoder_depth=5, in_channels=1, classes=1)\n",
        "\n",
        "device = torch.device(\"cuda\" if torch.cuda.is_available() else \"cpu\")\n",
        "print(f\"Using device: {device}\")\n",
        "model.load_state_dict(torch.load(\"./weights/manual/improved.pkl\"))\n",
        "model.to(device)\n",
        "crnosabelo=58\n",
        "pos_weight = torch.tensor([crnosabelo]).to(device)\n",
        "loss_function = nn.BCEWithLogitsLoss(pos_weight=pos_weight)\n",
        "learning_rate = 0.0001\n",
        "from ML_Utils import get_accuracy, plot_curve, keep_store_dict, store_dict_to_disk\n",
        "optimizer = torch.optim.SGD(model.parameters(), lr=learning_rate)\n",
        "def test(model, test_loader):\n",
        "    model.eval()\n",
        "    test_acc = 0.0\n",
        "    with torch.no_grad():\n",
        "        for batch_num, (x, y) in enumerate(test_loader, 0):\n",
        "            x = x.to(device)\n",
        "            y = y.to(device)\n",
        "            y_hat = model(x)\n",
        "            test_acc += get_accuracy(y_hat, y)\n",
        "    return test_acc / batch_num\n",
        "\n",
        "def train(model, num_epochs, train_loader, store_dict, test_loader=None):\n",
        "    for epoch in range(num_epochs):\n",
        "        train_running_loss = 0.0\n",
        "        train_acc = 0.0\n",
        "        model = model.train()\n",
        "        for batch_num, (x, y) in enumerate(train_loader):\n",
        "            x = x.to(device)\n",
        "            y = y.to(device)\n",
        "            y_hat = model(x)\n",
        "            loss = loss_function(y_hat, y)\n",
        "            optimizer.zero_grad()\n",
        "            loss.backward()\n",
        "            optimizer.step()\n",
        "            train_running_loss += loss.detach().item()\n",
        "            train_acc += get_accuracy(y_hat=y_hat, y=y)\n",
        "        epoch_loss = train_running_loss / batch_num\n",
        "        epoch_acc = train_acc / batch_num\n",
        "        store_dict = keep_store_dict(curve=epoch_loss, label='train_loss', store_dict=store_dict)\n",
        "        store_dict = keep_store_dict(curve=epoch_acc, label='train_acc', store_dict=store_dict)\n",
        "        print('Epoch: %d | Loss: %.4f | Train Accuracy: %.3f' % (epoch, epoch_loss, epoch_acc))\n",
        "        torch.save(model.state_dict(),f\"./weights/automatic/epoch_{epoch}.pkl\")\n",
        "        if test_loader is not None:\n",
        "            test_acc = test(model=model, test_loader=test_loader)\n",
        "            store_dict = keep_store_dict(curve=test_acc, label='test_acc', store_dict=store_dict)\n",
        "    return store_dict\n",
        "\n",
        "while True:\n",
        "    a = input(\"Train model (from scratch)? y/n\")\n",
        "    if a.lower()==\"y\":\n",
        "        train(model,25,dataloader,{})\n",
        "        break\n",
        "    elif a.lower()==\"n\":\n",
        "        break\n",
        "\n"
      ]
    },
    {
      "cell_type": "code",
      "execution_count": null,
      "metadata": {
        "colab": {
          "base_uri": "https://localhost:8080/",
          "height": 386
        },
        "id": "o3HgY5CokFhD",
        "outputId": "b21322b8-9874-4391-c7fe-7cf6f5069116"
      },
      "outputs": [],
      "source": [
        "model = smp.Unet(encoder_depth=5, in_channels=1, classes=1)\n",
        "import random\n",
        "device = torch.device(\"cuda\" if torch.cuda.is_available() else \"cpu\")\n",
        "print(f\"Using device: {device}\")\n",
        "\n",
        "# Load image and mask\n",
        "inde = random.randint(1,300)\n",
        "img_path = f\"./data/dataset/images/{inde}.png\"\n",
        "mask_path = f\"./data/dataset/masks/{inde}.png\"\n",
        "\n",
        "img = cv2.imread(img_path, cv2.IMREAD_GRAYSCALE)\n",
        "mask = cv2.imread(mask_path, cv2.IMREAD_GRAYSCALE)\n",
        "\n",
        "# Preprocess\n",
        "img_tensor = torch.from_numpy(img).float().unsqueeze(0).unsqueeze(0) / 255.0\n",
        "mask_tensor = torch.from_numpy(mask).float().unsqueeze(0).unsqueeze(0) / 255.0\n",
        "\n",
        "# Move to device\n",
        "img_tensor = img_tensor.to(device)\n",
        "mask_tensor = mask_tensor.to(device)\n",
        "\n",
        "model.load_state_dict(torch.load(\"./weights/manual/improved.pkl\"))\n",
        "model.to(device)\n",
        "\n",
        "# Model inference\n",
        "model.eval()\n",
        "with torch.no_grad():\n",
        "    output = model(img_tensor)\n",
        "    pred_mask = torch.sigmoid(output) > 0.96\n",
        "\n",
        "# Move to CPU and numpy for plotting\n",
        "img_np = img_tensor.cpu().squeeze().numpy()\n",
        "mask_np = mask_tensor.cpu().squeeze().numpy()\n",
        "pred_np = pred_mask.cpu().squeeze().numpy()\n",
        "\n",
        "# Plot side-by-side + overlay\n",
        "fig, axs = plt.subplots(1, 5, figsize=(16, 4))\n",
        "\n",
        "# Original grayscale input\n",
        "axs[0].imshow(img_np, cmap='gray')\n",
        "axs[0].set_title(\"Input Image\")\n",
        "axs[0].axis('off')\n",
        "\n",
        "# Ground truth mask\n",
        "axs[1].imshow(mask_np, cmap='gray')\n",
        "axs[1].set_title(\"Ground Truth Mask\")\n",
        "axs[1].axis('off')\n",
        "\n",
        "# Predicted binary mask\n",
        "axs[2].imshow(pred_np, cmap='gray')\n",
        "axs[2].set_title(\"Predicted Mask\")\n",
        "axs[2].axis('off')\n",
        "\n",
        "# Raw output (logits)\n",
        "axs[3].imshow(np.array(output.cpu())[0, 0], cmap=\"gray\")\n",
        "axs[3].set_title(\"Model Output\")\n",
        "axs[3].axis(\"off\")\n",
        "\n",
        "# Composite overlay: input + pred (blue) + ground truth (green)\n",
        "axs[4].imshow(img, cmap='gray')\n",
        "axs[4].imshow(pred_np, cmap='Blues', alpha=0.7)\n",
        "axs[4].imshow(mask_np, cmap='Greens', alpha=0.7)\n",
        "axs[4].set_title(\"Overlay\")\n",
        "axs[4].axis('off')\n",
        "\n",
        "plt.tight_layout()\n",
        "plt.show()\n",
        "\n",
        "print(torch.sigmoid(torch.Tensor([output.cpu()[0,0].max()])))\n",
        "\n",
        "print(np.array(output.cpu())[0,0].min())\n",
        "print(np.array(output.cpu())[0,0].max())\n",
        "print(np.array(output.cpu())[0,0].mean())\n",
        "\n",
        "\n",
        "plt.show()"
      ]
    },
    {
      "cell_type": "code",
      "execution_count": 7,
      "metadata": {
        "id": "FnkWCw-4M5bF"
      },
      "outputs": [],
      "source": [
        "def accuracy(prediction, maskfr):\n",
        "    prediction = (prediction > 127).astype(np.uint8)\n",
        "    maskfr = (maskfr > 127).astype(np.uint8)\n",
        "\n",
        "    sM = np.sum(maskfr == 1)\n",
        "\n",
        "\n",
        "    # Compute values\n",
        "    TP = np.sum((prediction == 1) & (maskfr == 1))\n",
        "    TN = np.sum((prediction == 0) & (maskfr == 0))\n",
        "    FP = np.sum((prediction == 1) & (maskfr == 0))\n",
        "    FN = np.sum((prediction == 0) & (maskfr == 1))\n",
        "\n",
        "    total = prediction.size\n",
        "    return FP / sM, FN / total, TP / sM, TN / total"
      ]
    },
    {
      "cell_type": "code",
      "execution_count": null,
      "metadata": {
        "colab": {
          "base_uri": "https://localhost:8080/",
          "height": 110
        },
        "id": "CojbTwHfgZNA",
        "outputId": "31b451bd-f173-490b-fc06-fc587b74c84b"
      },
      "outputs": [
        {
          "name": "stdout",
          "output_type": "stream",
          "text": [
            "\n",
            "=== Test Accuracy Metrics ===\n",
            "Avg FP / sum(M): 0.1354\n",
            "Avg FN / total: 0.0003\n",
            "Avg TP / sum(M): 0.9586\n",
            "Avg TN / total: 0.9102\n",
            "Precision: 0.8763\n",
            "Recall: 0.9997\n",
            "F1 Score: 0.9339\n"
          ]
        }
      ],
      "source": [
        "model1 = smp.Unet(encoder_depth=5, in_channels=1, classes=1)\n",
        "model1.load_state_dict(torch.load(\"./weights/manual/improved.pkl\"))\n",
        "device = torch.device(\"cuda\" if torch.cuda.is_available() else \"cpu\")\n",
        "model1 = model1.to(device)\n",
        "\n",
        "def evaluate_model(model, x_test_paths, y_test_paths):\n",
        "    model.eval()\n",
        "    total_FP, total_FN, total_TP, total_TN = 0.0, 0.0, 0.0, 0.0\n",
        "\n",
        "    with torch.no_grad():\n",
        "        for img_path, mask_path in zip(x_test_paths, y_test_paths):\n",
        "            # Load grayscale image and mask (512x512)\n",
        "            img = cv2.imread(img_path, cv2.IMREAD_GRAYSCALE)\n",
        "            mask = cv2.imread(mask_path, cv2.IMREAD_GRAYSCALE)\n",
        "\n",
        "            # Normalize and convert to tensor [1, 1, 512, 512]\n",
        "            img_tensor = torch.from_numpy(img).float().unsqueeze(0).unsqueeze(0) / 255.0\n",
        "            img_tensor = img_tensor.to(device)\n",
        "\n",
        "            # Predict\n",
        "            output = model(img_tensor)\n",
        "            pred = torch.sigmoid(output).cpu().numpy()[0, 0] * 255  # convert to [0–255] range\n",
        "\n",
        "            # Compute accuracy\n",
        "            FP, FN, TP, TN = accuracy(pred, mask)\n",
        "            total_FP += FP\n",
        "            total_FN += FN\n",
        "            total_TP += TP\n",
        "            total_TN += TN\n",
        "\n",
        "    num_samples = len(x_test_paths)\n",
        "    print(\"\\n=== Test Accuracy Metrics ===\")\n",
        "    avg_FP = total_FP / (num_samples * 58)\n",
        "    avg_FN = total_FN / num_samples\n",
        "    avg_TP = total_TP / num_samples\n",
        "    avg_TN = total_TN / num_samples\n",
        "\n",
        "    print(f\"Avg FP / sum(M): {avg_FP:.4f}\")\n",
        "    print(f\"Avg FN / total: {avg_FN:.4f}\")\n",
        "    print(f\"Avg TP / sum(M): {avg_TP:.4f}\")\n",
        "    print(f\"Avg TN / total: {avg_TN:.4f}\")\n",
        "\n",
        "    # Calculate Precision, Recall, and F1 Score\n",
        "    precision = avg_TP / (avg_TP + avg_FP) if (avg_TP + avg_FP) != 0 else 0\n",
        "    recall = avg_TP / (avg_TP + avg_FN) if (avg_TP + avg_FN) != 0 else 0\n",
        "    f1_score = 2 * (precision * recall) / (precision + recall) if (precision + recall) != 0 else 0\n",
        "\n",
        "    print(f\"Precision: {precision:.4f}\")\n",
        "    print(f\"Recall: {recall:.4f}\")\n",
        "    print(f\"F1 Score: {f1_score:.4f}\")\n",
        "\n",
        "evaluate_model(model1,x_test,y_test)\n",
        "\n",
        "#=== Test Accuracy Metrics ===\n",
        "#Avg FP / sum(M): 8.6423\n",
        "#Avg FN / total: 0.0004\n",
        "#Avg TP / sum(M): 0.9551\n",
        "#Avg TN / total: 0.9039"
      ]
    }
  ],
  "metadata": {
    "accelerator": "GPU",
    "colab": {
      "gpuType": "T4",
      "provenance": []
    },
    "kernelspec": {
      "display_name": ".venv",
      "language": "python",
      "name": "python3"
    },
    "language_info": {
      "codemirror_mode": {
        "name": "ipython",
        "version": 3
      },
      "file_extension": ".py",
      "mimetype": "text/x-python",
      "name": "python",
      "nbconvert_exporter": "python",
      "pygments_lexer": "ipython3",
      "version": "3.12.6"
    }
  },
  "nbformat": 4,
  "nbformat_minor": 0
}
